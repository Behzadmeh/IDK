{
 "cells": [
  {
   "cell_type": "code",
   "execution_count": 2,
   "id": "636f21b1",
   "metadata": {},
   "outputs": [],
   "source": [
    "from datasets import load_dataset  \n",
    "\n",
    "# Load MMLU dataset  \n",
    "mmlu_dataset = load_dataset(\"TIGER-Lab/MMLU-Pro\")  \n",
    "\n",
    "# Example of accessing a specific split (e.g., 'validation')\n",
    "validation_data = mmlu_dataset['validation']\n",
    "test_data = mmlu_dataset['test']"
   ]
  },
  {
   "cell_type": "code",
   "execution_count": 3,
   "id": "7efe9fae",
   "metadata": {},
   "outputs": [
    {
     "data": {
      "text/plain": [
       "DatasetDict({\n",
       "    test: Dataset({\n",
       "        features: ['question_id', 'question', 'options', 'answer', 'answer_index', 'cot_content', 'category', 'src'],\n",
       "        num_rows: 12032\n",
       "    })\n",
       "    validation: Dataset({\n",
       "        features: ['question_id', 'question', 'options', 'answer', 'answer_index', 'cot_content', 'category', 'src'],\n",
       "        num_rows: 70\n",
       "    })\n",
       "})"
      ]
     },
     "execution_count": 3,
     "metadata": {},
     "output_type": "execute_result"
    }
   ],
   "source": [
    "mmlu_dataset"
   ]
  },
  {
   "cell_type": "code",
   "execution_count": 5,
   "id": "8eb97e92",
   "metadata": {},
   "outputs": [
    {
     "name": "stdout",
     "output_type": "stream",
     "text": [
      "category\n",
      "math                1351\n",
      "physics             1299\n",
      "chemistry           1132\n",
      "law                 1101\n",
      "engineering          969\n",
      "other                924\n",
      "economics            844\n",
      "health               818\n",
      "psychology           798\n",
      "business             789\n",
      "biology              717\n",
      "philosophy           499\n",
      "computer science     410\n",
      "history              381\n",
      "Name: count, dtype: int64\n"
     ]
    }
   ],
   "source": [
    "# counts the number of every unique value in a column\n",
    "import pandas as pd\n",
    "\n",
    "# Convert the list to a Pandas DataFrame if it's not already one\n",
    "test_data = pd.DataFrame(test_data)\n",
    "\n",
    "# Then you can apply value_counts\n",
    "print(test_data['category'].value_counts())\n",
    "\n",
    "# print(test_data['category'].value_counts())"
   ]
  },
  {
   "cell_type": "code",
   "execution_count": 14,
   "id": "5fae9bdf",
   "metadata": {},
   "outputs": [],
   "source": [
    "df = test_data"
   ]
  },
  {
   "cell_type": "code",
   "execution_count": 18,
   "id": "909adefc",
   "metadata": {},
   "outputs": [
    {
     "data": {
      "text/html": [
       "<div>\n",
       "<style scoped>\n",
       "    .dataframe tbody tr th:only-of-type {\n",
       "        vertical-align: middle;\n",
       "    }\n",
       "\n",
       "    .dataframe tbody tr th {\n",
       "        vertical-align: top;\n",
       "    }\n",
       "\n",
       "    .dataframe thead th {\n",
       "        text-align: right;\n",
       "    }\n",
       "</style>\n",
       "<table border=\"1\" class=\"dataframe\">\n",
       "  <thead>\n",
       "    <tr style=\"text-align: right;\">\n",
       "      <th></th>\n",
       "      <th>question_id</th>\n",
       "      <th>question</th>\n",
       "      <th>options</th>\n",
       "      <th>answer</th>\n",
       "      <th>answer_index</th>\n",
       "      <th>cot_content</th>\n",
       "      <th>category</th>\n",
       "      <th>src</th>\n",
       "      <th>full_prompt</th>\n",
       "    </tr>\n",
       "  </thead>\n",
       "  <tbody>\n",
       "    <tr>\n",
       "      <th>0</th>\n",
       "      <td>70</td>\n",
       "      <td>Typical advertising regulatory bodies suggest,...</td>\n",
       "      <td>[Safe practices, Fear, Jealousy, Trivial, Unsa...</td>\n",
       "      <td>I</td>\n",
       "      <td>8</td>\n",
       "      <td></td>\n",
       "      <td>business</td>\n",
       "      <td>ori_mmlu-business_ethics</td>\n",
       "      <td>Typical advertising regulatory bodies suggest,...</td>\n",
       "    </tr>\n",
       "    <tr>\n",
       "      <th>1</th>\n",
       "      <td>71</td>\n",
       "      <td>Managers are entrusted to run the company in t...</td>\n",
       "      <td>[Shareholders, Diligence, Self-interest, Share...</td>\n",
       "      <td>F</td>\n",
       "      <td>5</td>\n",
       "      <td></td>\n",
       "      <td>business</td>\n",
       "      <td>ori_mmlu-business_ethics</td>\n",
       "      <td>Managers are entrusted to run the company in t...</td>\n",
       "    </tr>\n",
       "    <tr>\n",
       "      <th>2</th>\n",
       "      <td>72</td>\n",
       "      <td>There are two main issues associated with ____...</td>\n",
       "      <td>[Down, Autonomy, Remuneration, Benefit, Down, ...</td>\n",
       "      <td>J</td>\n",
       "      <td>9</td>\n",
       "      <td></td>\n",
       "      <td>business</td>\n",
       "      <td>ori_mmlu-business_ethics</td>\n",
       "      <td>There are two main issues associated with ____...</td>\n",
       "    </tr>\n",
       "  </tbody>\n",
       "</table>\n",
       "</div>"
      ],
      "text/plain": [
       "   question_id                                           question  \\\n",
       "0           70  Typical advertising regulatory bodies suggest,...   \n",
       "1           71  Managers are entrusted to run the company in t...   \n",
       "2           72  There are two main issues associated with ____...   \n",
       "\n",
       "                                             options answer  answer_index  \\\n",
       "0  [Safe practices, Fear, Jealousy, Trivial, Unsa...      I             8   \n",
       "1  [Shareholders, Diligence, Self-interest, Share...      F             5   \n",
       "2  [Down, Autonomy, Remuneration, Benefit, Down, ...      J             9   \n",
       "\n",
       "  cot_content  category                       src  \\\n",
       "0              business  ori_mmlu-business_ethics   \n",
       "1              business  ori_mmlu-business_ethics   \n",
       "2              business  ori_mmlu-business_ethics   \n",
       "\n",
       "                                         full_prompt  \n",
       "0  Typical advertising regulatory bodies suggest,...  \n",
       "1  Managers are entrusted to run the company in t...  \n",
       "2  There are two main issues associated with ____...  "
      ]
     },
     "execution_count": 18,
     "metadata": {},
     "output_type": "execute_result"
    }
   ],
   "source": [
    "df.head(3)"
   ]
  },
  {
   "cell_type": "code",
   "execution_count": 17,
   "id": "73740f0d",
   "metadata": {},
   "outputs": [
    {
     "data": {
      "text/plain": [
       "'Typical advertising regulatory bodies suggest, for example that adverts must not: encourage _________, cause unnecessary ________ or _____, and must not cause _______ offence.'"
      ]
     },
     "execution_count": 17,
     "metadata": {},
     "output_type": "execute_result"
    }
   ],
   "source": [
    "df['question'][0]"
   ]
  },
  {
   "cell_type": "code",
   "execution_count": 24,
   "id": "649bfff2",
   "metadata": {},
   "outputs": [
    {
     "name": "stdout",
     "output_type": "stream",
     "text": [
      "   question_id                                           question  \\\n",
      "0           70  Typical advertising regulatory bodies suggest,...   \n",
      "1           71  Managers are entrusted to run the company in t...   \n",
      "2           72  There are two main issues associated with ____...   \n",
      "3           73  _______ locate morality beyond the sphere of r...   \n",
      "4           74   Some of key differences between Islamic finan...   \n",
      "\n",
      "                                             options answer  answer_index  \\\n",
      "0  [Safe practices, Fear, Jealousy, Trivial, Unsa...      I             8   \n",
      "1  [Shareholders, Diligence, Self-interest, Share...      F             5   \n",
      "2  [Down, Autonomy, Remuneration, Benefit, Down, ...      J             9   \n",
      "3  [Ethical egoism, Ethics of duty, Postmodern et...      C             2   \n",
      "4  [Interest, Certain, Assured, Both tangible and...      G             6   \n",
      "\n",
      "  cot_content  category                       src  \\\n",
      "0              business  ori_mmlu-business_ethics   \n",
      "1              business  ori_mmlu-business_ethics   \n",
      "2              business  ori_mmlu-business_ethics   \n",
      "3              business  ori_mmlu-business_ethics   \n",
      "4              business  ori_mmlu-business_ethics   \n",
      "\n",
      "                                         full_prompt  \n",
      "0  Please answer the following question by choosi...  \n",
      "1  Please answer the following question by choosi...  \n",
      "2  Please answer the following question by choosi...  \n",
      "3  Please answer the following question by choosi...  \n",
      "4  Please answer the following question by choosi...  \n"
     ]
    }
   ],
   "source": [
    "# Initialize an empty list to store each full_prompt\n",
    "prompts = []\n",
    "\n",
    "for idx, row in df.iterrows():\n",
    "    # Assuming 'question' and 'options' are column names in your DataFrame\n",
    "    question = row['question']\n",
    "    options = row['options']  # This should be a list or iterable of options\n",
    "    answer_label = row['answer']\n",
    "    answer_index = row['answer_index']\n",
    "    answer_text = options[answer_index]\n",
    "    full_prompt = \"Please answer the following question by choosing the correct option.\\nQuestion: \" + question + \"\\nOptions:\\n\"\n",
    "    option_labels = ['A', 'B', 'C', 'D', 'E', 'F', 'G', 'H', 'I', 'J']\n",
    "\n",
    "    for label, option in zip(option_labels, options):\n",
    "        full_prompt += f\"{label}. {option}\\n\"\n",
    "    full_prompt += f\"Correct option: {answer_label}. {answer_text}\"\n",
    "    # Append the generated prompt to the list\n",
    "    prompts.append(full_prompt)\n",
    "\n",
    "# Add the list of prompts as a new column in the DataFrame\n",
    "df['full_prompt'] = prompts\n",
    "\n",
    "# Check the DataFrame to confirm the new column has been added\n",
    "print(df.head())"
   ]
  },
  {
   "cell_type": "code",
   "execution_count": 25,
   "id": "a72dd84d",
   "metadata": {},
   "outputs": [
    {
     "name": "stdout",
     "output_type": "stream",
     "text": [
      "Please answer the following question by choosing the correct option.\n",
      "Question: Typical advertising regulatory bodies suggest, for example that adverts must not: encourage _________, cause unnecessary ________ or _____, and must not cause _______ offence.\n",
      "Options:\n",
      "A. Safe practices, Fear, Jealousy, Trivial\n",
      "B. Unsafe practices, Distress, Joy, Trivial\n",
      "C. Safe practices, Wants, Jealousy, Trivial\n",
      "D. Safe practices, Distress, Fear, Trivial\n",
      "E. Unsafe practices, Wants, Jealousy, Serious\n",
      "F. Safe practices, Distress, Jealousy, Serious\n",
      "G. Safe practices, Wants, Fear, Serious\n",
      "H. Unsafe practices, Wants, Fear, Trivial\n",
      "I. Unsafe practices, Distress, Fear, Serious\n",
      "Correct option: I. Unsafe practices, Distress, Fear, Serious\n"
     ]
    }
   ],
   "source": [
    "print(df['full_prompt'][0])"
   ]
  },
  {
   "cell_type": "code",
   "execution_count": 26,
   "id": "b680b411",
   "metadata": {},
   "outputs": [
    {
     "name": "stdout",
     "output_type": "stream",
     "text": [
      "   question_id                                           question  \\\n",
      "0           70  Typical advertising regulatory bodies suggest,...   \n",
      "1           71  Managers are entrusted to run the company in t...   \n",
      "2           72  There are two main issues associated with ____...   \n",
      "3           73  _______ locate morality beyond the sphere of r...   \n",
      "4           74   Some of key differences between Islamic finan...   \n",
      "\n",
      "                                             options answer  answer_index  \\\n",
      "0  [Safe practices, Fear, Jealousy, Trivial, Unsa...      I             8   \n",
      "1  [Shareholders, Diligence, Self-interest, Share...      F             5   \n",
      "2  [Down, Autonomy, Remuneration, Benefit, Down, ...      J             9   \n",
      "3  [Ethical egoism, Ethics of duty, Postmodern et...      C             2   \n",
      "4  [Interest, Certain, Assured, Both tangible and...      G             6   \n",
      "\n",
      "  cot_content  category                       src  \\\n",
      "0              business  ori_mmlu-business_ethics   \n",
      "1              business  ori_mmlu-business_ethics   \n",
      "2              business  ori_mmlu-business_ethics   \n",
      "3              business  ori_mmlu-business_ethics   \n",
      "4              business  ori_mmlu-business_ethics   \n",
      "\n",
      "                                         full_prompt  \\\n",
      "0  Please answer the following question by choosi...   \n",
      "1  Please answer the following question by choosi...   \n",
      "2  Please answer the following question by choosi...   \n",
      "3  Please answer the following question by choosi...   \n",
      "4  Please answer the following question by choosi...   \n",
      "\n",
      "                                         test_prompt  \n",
      "0  Please answer the following question by choosi...  \n",
      "1  Please answer the following question by choosi...  \n",
      "2  Please answer the following question by choosi...  \n",
      "3  Please answer the following question by choosi...  \n",
      "4  Please answer the following question by choosi...  \n"
     ]
    }
   ],
   "source": [
    "# Initialize an empty list to store each test_prompt\n",
    "prompts = []\n",
    "\n",
    "for idx, row in df.iterrows():\n",
    "    # Assuming 'question' and 'options' are column names in your DataFrame\n",
    "    question = row['question']\n",
    "    options = row['options']  # This should be a list or iterable of options\n",
    "    answer_label = row['answer']\n",
    "    answer_index = row['answer_index']\n",
    "    answer_text = options[answer_index]\n",
    "    test_prompt = \"Please answer the following question by choosing the correct option.\\nQuestion: \" + question + \"\\nOptions:\\n\"\n",
    "    option_labels = ['A', 'B', 'C', 'D', 'E', 'F', 'G', 'H', 'I', 'J']\n",
    "\n",
    "    for label, option in zip(option_labels, options):\n",
    "        test_prompt += f\"{label}. {option}\\n\"\n",
    "    test_prompt += f\"Correct option:\"\n",
    "    # Append the generated prompt to the list\n",
    "    prompts.append(test_prompt)\n",
    "\n",
    "# Add the list of prompts as a new column in the DataFrame\n",
    "df['test_prompt'] = prompts\n",
    "\n",
    "# Check the DataFrame to confirm the new column has been added\n",
    "print(df.head())"
   ]
  },
  {
   "cell_type": "code",
   "execution_count": 27,
   "id": "4a7a288c",
   "metadata": {},
   "outputs": [
    {
     "name": "stdout",
     "output_type": "stream",
     "text": [
      "Please answer the following question by choosing the correct option.\n",
      "Question: Typical advertising regulatory bodies suggest, for example that adverts must not: encourage _________, cause unnecessary ________ or _____, and must not cause _______ offence.\n",
      "Options:\n",
      "A. Safe practices, Fear, Jealousy, Trivial\n",
      "B. Unsafe practices, Distress, Joy, Trivial\n",
      "C. Safe practices, Wants, Jealousy, Trivial\n",
      "D. Safe practices, Distress, Fear, Trivial\n",
      "E. Unsafe practices, Wants, Jealousy, Serious\n",
      "F. Safe practices, Distress, Jealousy, Serious\n",
      "G. Safe practices, Wants, Fear, Serious\n",
      "H. Unsafe practices, Wants, Fear, Trivial\n",
      "I. Unsafe practices, Distress, Fear, Serious\n",
      "Correct option:\n"
     ]
    }
   ],
   "source": [
    "print(df['test_prompt'][0])"
   ]
  },
  {
   "cell_type": "code",
   "execution_count": 28,
   "id": "6007d9b9",
   "metadata": {},
   "outputs": [],
   "source": [
    "df.to_csv(\"mmlu.csv\", index=False)"
   ]
  }
 ],
 "metadata": {
  "kernelspec": {
   "display_name": "Python 3 (ipykernel)",
   "language": "python",
   "name": "python3"
  },
  "language_info": {
   "codemirror_mode": {
    "name": "ipython",
    "version": 3
   },
   "file_extension": ".py",
   "mimetype": "text/x-python",
   "name": "python",
   "nbconvert_exporter": "python",
   "pygments_lexer": "ipython3",
   "version": "3.11.5"
  }
 },
 "nbformat": 4,
 "nbformat_minor": 5
}
